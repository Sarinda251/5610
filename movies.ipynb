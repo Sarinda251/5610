{
  "nbformat": 4,
  "nbformat_minor": 0,
  "metadata": {
    "colab": {
      "name": "movies.ipynb",
      "provenance": [],
      "collapsed_sections": [],
      "authorship_tag": "ABX9TyOtxHxGB2RffXf3P4CKBhza",
      "include_colab_link": true
    },
    "kernelspec": {
      "name": "python3",
      "display_name": "Python 3"
    }
  },
  "cells": [
    {
      "cell_type": "markdown",
      "metadata": {
        "id": "view-in-github",
        "colab_type": "text"
      },
      "source": [
        "<a href=\"https://colab.research.google.com/github/Sarinda251/CAP_5610/blob/master/movies.ipynb\" target=\"_parent\"><img src=\"https://colab.research.google.com/assets/colab-badge.svg\" alt=\"Open In Colab\"/></a>"
      ]
    },
    {
      "cell_type": "code",
      "metadata": {
        "id": "otW4VK2qPIoY"
      },
      "source": [
        "!pip install surprise"
      ],
      "execution_count": null,
      "outputs": []
    },
    {
      "cell_type": "code",
      "metadata": {
        "id": "z7m_9UD2Fn6u"
      },
      "source": [
        "import pandas as pd\n",
        "from surprise import SVD, KNNBasic\n",
        "from surprise import Reader\n",
        "from surprise import Dataset\n",
        "from surprise.model_selection import cross_validate\n",
        "import statistics\n",
        "import matplotlib.pyplot as plt\n",
        "import numpy as np"
      ],
      "execution_count": 4,
      "outputs": []
    },
    {
      "cell_type": "code",
      "metadata": {
        "id": "APyHH85lMFC5"
      },
      "source": [
        "reader = Reader(line_format=\"user item rating timestamp\", sep=',', skip_lines = 1)\n",
        "data = Dataset.load_from_file(\"ratings_small.csv\", reader=reader)"
      ],
      "execution_count": 5,
      "outputs": []
    },
    {
      "cell_type": "markdown",
      "metadata": {
        "id": "IzHA4NIkFpM6"
      },
      "source": [
        "PMF"
      ]
    },
    {
      "cell_type": "code",
      "metadata": {
        "id": "MDZCAP_rMhgM",
        "colab": {
          "base_uri": "https://localhost:8080/"
        },
        "outputId": "753b73e0-e169-4704-c37e-d4f94772b6a2"
      },
      "source": [
        "#SVD without bias is equivalent to PMF\n",
        "algo = SVD(biased=False)\n",
        "\n",
        "pmf = cross_validate(algo, data, measures=['RMSE', 'MAE'], cv=5)\n",
        "print(pmf)"
      ],
      "execution_count": null,
      "outputs": [
        {
          "output_type": "stream",
          "text": [
            "{'test_rmse': array([1.00584087, 1.00524071, 1.01383304, 1.01347319, 1.00600293]), 'test_mae': array([0.777435  , 0.77696923, 0.78244879, 0.78060789, 0.77820841]), 'fit_time': (4.969432353973389, 4.9264817237854, 4.917420387268066, 4.885930299758911, 4.8976428508758545), 'test_time': (0.19714951515197754, 0.12510204315185547, 0.12220048904418945, 0.13031244277954102, 0.19902276992797852)}\n"
          ],
          "name": "stdout"
        }
      ]
    },
    {
      "cell_type": "markdown",
      "metadata": {
        "id": "NQbjsULJFt8a"
      },
      "source": [
        "user-based collaborative filtering"
      ]
    },
    {
      "cell_type": "code",
      "metadata": {
        "id": "V6Z_ME3Zjv0J"
      },
      "source": [
        "#user based\n",
        "algo = KNNBasic(sim_options={'user_based': True})\n",
        "ubased = cross_validate(algo, data, measures=['RMSE', 'MAE'], cv=5)"
      ],
      "execution_count": null,
      "outputs": []
    },
    {
      "cell_type": "code",
      "metadata": {
        "colab": {
          "base_uri": "https://localhost:8080/"
        },
        "id": "OttC38NVlWFm",
        "outputId": "26090911-19d1-4301-f4cf-845db8b00e7c"
      },
      "source": [
        "print(ubased)"
      ],
      "execution_count": null,
      "outputs": [
        {
          "output_type": "stream",
          "text": [
            "{'test_rmse': array([0.96481725, 0.96895607, 0.96118272, 0.96968215, 0.97080462]), 'test_mae': array([0.7378558 , 0.74578082, 0.73977413, 0.74400683, 0.7463937 ]), 'fit_time': (0.13596796989440918, 0.15313959121704102, 0.16738557815551758, 0.16170787811279297, 0.14517760276794434), 'test_time': (1.727545976638794, 1.7402124404907227, 1.659088134765625, 1.759129285812378, 1.730762243270874)}\n"
          ],
          "name": "stdout"
        }
      ]
    },
    {
      "cell_type": "markdown",
      "metadata": {
        "id": "jmuIMkInFw8F"
      },
      "source": [
        "item-based collaborative filtering"
      ]
    },
    {
      "cell_type": "code",
      "metadata": {
        "id": "KJbud1ikGAPx"
      },
      "source": [
        "#item based\n",
        "algo = KNNBasic(sim_options={'user_based': False})\n",
        "ibased = cross_validate(algo, data, measures=['RMSE', 'MAE'], cv=5)"
      ],
      "execution_count": null,
      "outputs": []
    },
    {
      "cell_type": "code",
      "metadata": {
        "colab": {
          "base_uri": "https://localhost:8080/"
        },
        "id": "Nc8i8oNwFtXh",
        "outputId": "ed46ff15-a2a7-497a-dcf3-803459bd48fa"
      },
      "source": [
        "print(ibased)"
      ],
      "execution_count": null,
      "outputs": [
        {
          "output_type": "stream",
          "text": [
            "{'test_rmse': array([0.93919685, 0.9284768 , 0.93400013, 0.93439516, 0.93749131]), 'test_mae': array([0.7227207 , 0.71406091, 0.72225191, 0.72223835, 0.72440605]), 'fit_time': (3.849188804626465, 3.8490941524505615, 3.9588027000427246, 4.02915096282959, 4.054906129837036), 'test_time': (6.919955492019653, 7.19512939453125, 7.164139270782471, 7.167704105377197, 6.96502685546875)}\n"
          ],
          "name": "stdout"
        }
      ]
    },
    {
      "cell_type": "code",
      "metadata": {
        "colab": {
          "base_uri": "https://localhost:8080/"
        },
        "id": "or3axewUjP53",
        "outputId": "41751003-5cc7-4dea-bb96-760eb1c8cdbf"
      },
      "source": [
        "print(\"Average MAE of PMF\")\n",
        "print(statistics.mean(pmf['test_mae']))\n",
        "print(\"Average RMSE of PMF\")\n",
        "print(statistics.mean(pmf['test_rmse']))\n",
        "print(\"Average MAE of User-Based Collaborative Filtering\")\n",
        "print(statistics.mean(ubased['test_mae']))\n",
        "print(\"Average RMSE of User-Based Collaborative Filtering\")\n",
        "print(statistics.mean(ubased['test_rmse']))\n",
        "print(\"Average MAE of Item-Based Collaborative Filtering\")\n",
        "print(statistics.mean(ibased['test_mae']))\n",
        "print(\"Average RMSE of Item-Based Collaborative Filtering\")\n",
        "print(statistics.mean(ibased['test_rmse']))"
      ],
      "execution_count": null,
      "outputs": [
        {
          "output_type": "stream",
          "text": [
            "Average MAE of PMF\n",
            "0.7791338629157123\n",
            "Average RMSE of PMF\n",
            "1.008878146764582\n",
            "Average MAE of User-Based Collaborative Filtering\n",
            "0.7427622540759493\n",
            "Average RMSE of User-Based Collaborative Filtering\n",
            "0.9670885615842494\n",
            "Average MAE of Item-Based Collaborative Filtering\n",
            "0.7211355807326462\n",
            "Average RMSE of Item-Based Collaborative Filtering\n",
            "0.9347120520563776\n"
          ],
          "name": "stdout"
        }
      ]
    },
    {
      "cell_type": "markdown",
      "metadata": {
        "id": "h-vTDIueEFUe"
      },
      "source": [
        "User-Based with varying metrics"
      ]
    },
    {
      "cell_type": "code",
      "metadata": {
        "id": "94COmYe0wT9J"
      },
      "source": [
        "algo1 = KNNBasic(sim_options={'name': 'cosine', 'user_based': True})\n",
        "algo2 = KNNBasic(sim_options={'name': 'msd', 'user_based': True})\n",
        "algo3 = KNNBasic(sim_options={'name': 'pearson', 'user_based': True})\n",
        "ubased1 = cross_validate(algo1, data, measures=['RMSE', 'MAE'], cv=5)\n",
        "ubased2 = cross_validate(algo2, data, measures=['RMSE', 'MAE'], cv=5)\n",
        "ubased3 = cross_validate(algo3, data, measures=['RMSE', 'MAE'], cv=5)"
      ],
      "execution_count": null,
      "outputs": []
    },
    {
      "cell_type": "markdown",
      "metadata": {
        "id": "0o1BHEkvITm1"
      },
      "source": [
        "MAE"
      ]
    },
    {
      "cell_type": "code",
      "metadata": {
        "colab": {
          "base_uri": "https://localhost:8080/"
        },
        "id": "wPDn_EXaDcRr",
        "outputId": "663a2613-7330-41e8-f7c4-f7d80545edbc"
      },
      "source": [
        "print(\"cosine\")\n",
        "print(statistics.mean(ubased1['test_mae']))\n",
        "print(\"msd\")\n",
        "print(statistics.mean(ubased2['test_mae']))\n",
        "print(\"pearson\")\n",
        "print(statistics.mean(ubased3['test_mae']))"
      ],
      "execution_count": null,
      "outputs": [
        {
          "output_type": "stream",
          "text": [
            "cosine\n",
            "0.7678226759624266\n",
            "msd\n",
            "0.7439231849532458\n",
            "pearson\n",
            "0.7721925848214781\n"
          ],
          "name": "stdout"
        }
      ]
    },
    {
      "cell_type": "code",
      "metadata": {
        "colab": {
          "base_uri": "https://localhost:8080/",
          "height": 336
        },
        "id": "FXVSVhXfKKO6",
        "outputId": "1a11d2f7-92b8-4916-85b2-f6f1cd387a4c"
      },
      "source": [
        "fig = plt.figure()\n",
        "ax = fig.add_axes([0,0,1,1])\n",
        "metrics = ['cosine', 'msd', 'pearson']\n",
        "vals = [statistics.mean(ubased1['test_mae']),statistics.mean(ubased2['test_mae']),statistics.mean(ubased3['test_mae'])]\n",
        "ax.bar(metrics,vals)\n",
        "plt.show()"
      ],
      "execution_count": null,
      "outputs": [
        {
          "output_type": "display_data",
          "data": {
            "image/png": "[encoded data removed]",
            "text/plain": [
              "<Figure size 432x288 with 1 Axes>"
            ]
          },
          "metadata": {
            "tags": [],
            "needs_background": "light"
          }
        }
      ]
    },
    {
      "cell_type": "markdown",
      "metadata": {
        "id": "Mhn6ZULvEsDB"
      },
      "source": [
        "RMSE"
      ]
    },
    {
      "cell_type": "code",
      "metadata": {
        "colab": {
          "base_uri": "https://localhost:8080/"
        },
        "id": "SpnVnqSdIXRO",
        "outputId": "df94b609-4011-442c-c068-a3a817d33331"
      },
      "source": [
        "print(\"cosine\")\n",
        "print(statistics.mean(ubased1['test_rmse']))\n",
        "print(\"msd\")\n",
        "print(statistics.mean(ubased2['test_rmse']))\n",
        "print(\"pearson\")\n",
        "print(statistics.mean(ubased3['test_rmse']))"
      ],
      "execution_count": null,
      "outputs": [
        {
          "output_type": "stream",
          "text": [
            "cosine\n",
            "0.9942531730251778\n",
            "msd\n",
            "0.9678580638348994\n",
            "pearson\n",
            "0.9970378043991472\n"
          ],
          "name": "stdout"
        }
      ]
    },
    {
      "cell_type": "code",
      "metadata": {
        "colab": {
          "base_uri": "https://localhost:8080/",
          "height": 336
        },
        "id": "tq93-ipJKFn7",
        "outputId": "84f6e4ea-2f02-4167-82ee-f3797893ce6d"
      },
      "source": [
        "fig = plt.figure()\n",
        "ax = fig.add_axes([0,0,1,1])\n",
        "metrics = ['cosine', 'msd', 'pearson']\n",
        "vals = [statistics.mean(ubased1['test_rmse']),statistics.mean(ubased2['test_rmse']),statistics.mean(ubased3['test_rmse'])]\n",
        "ax.bar(metrics,vals)\n",
        "plt.show()"
      ],
      "execution_count": null,
      "outputs": [
        {
          "output_type": "display_data",
          "data": {
            "image/png": "[encoded data removed]",
            "text/plain": [
              "<Figure size 432x288 with 1 Axes>"
            ]
          },
          "metadata": {
            "tags": [],
            "needs_background": "light"
          }
        }
      ]
    },
    {
      "cell_type": "markdown",
      "metadata": {
        "id": "JBUH8D2nKB71"
      },
      "source": [
        "Item-Based with varying metrics"
      ]
    },
    {
      "cell_type": "code",
      "metadata": {
        "id": "Rr7zbN1-DcTg"
      },
      "source": [
        "algo1 = KNNBasic(sim_options={'name': 'cosine', 'user_based': False})\n",
        "algo2 = KNNBasic(sim_options={'name': 'msd', 'user_based': False})\n",
        "algo3 = KNNBasic(sim_options={'name': 'pearson', 'user_based': False})\n",
        "ibased1 = cross_validate(algo1, data, measures=['RMSE', 'MAE'], cv=5)\n",
        "ibased2 = cross_validate(algo2, data, measures=['RMSE', 'MAE'], cv=5)\n",
        "ibased3 = cross_validate(algo3, data, measures=['RMSE', 'MAE'], cv=5)"
      ],
      "execution_count": null,
      "outputs": []
    },
    {
      "cell_type": "markdown",
      "metadata": {
        "id": "si5VRMwVIkMl"
      },
      "source": [
        "MAE"
      ]
    },
    {
      "cell_type": "code",
      "metadata": {
        "colab": {
          "base_uri": "https://localhost:8080/"
        },
        "id": "p2Pr-BJxIfYG",
        "outputId": "f57796cc-d066-4323-96c2-6242b891f74f"
      },
      "source": [
        "print(\"cosine\")\n",
        "print(statistics.mean(ibased1['test_mae']))\n",
        "print(\"msd\")\n",
        "print(statistics.mean(ibased2['test_mae']))\n",
        "print(\"pearson\")\n",
        "print(statistics.mean(ibased3['test_mae']))"
      ],
      "execution_count": null,
      "outputs": [
        {
          "output_type": "stream",
          "text": [
            "cosine\n",
            "0.7742615715897431\n",
            "msd\n",
            "0.7210903719922351\n",
            "pearson\n",
            "0.7686599755237605\n"
          ],
          "name": "stdout"
        }
      ]
    },
    {
      "cell_type": "code",
      "metadata": {
        "colab": {
          "base_uri": "https://localhost:8080/",
          "height": 336
        },
        "id": "P_BlsT2LJhmh",
        "outputId": "5345421c-ca63-42c7-de25-d7e9e548aba4"
      },
      "source": [
        "fig = plt.figure()\n",
        "ax = fig.add_axes([0,0,1,1])\n",
        "metrics = ['cosine', 'msd', 'pearson']\n",
        "vals = [statistics.mean(ibased1['test_mae']),statistics.mean(ibased2['test_mae']),statistics.mean(ibased3['test_mae'])]\n",
        "ax.bar(metrics,vals)\n",
        "plt.show()"
      ],
      "execution_count": null,
      "outputs": [
        {
          "output_type": "display_data",
          "data": {
            "image/png": "[encoded data removed]",
            "text/plain": [
              "<Figure size 432x288 with 1 Axes>"
            ]
          },
          "metadata": {
            "tags": [],
            "needs_background": "light"
          }
        }
      ]
    },
    {
      "cell_type": "markdown",
      "metadata": {
        "id": "FFewWd2QIk_x"
      },
      "source": [
        "RSME"
      ]
    },
    {
      "cell_type": "code",
      "metadata": {
        "colab": {
          "base_uri": "https://localhost:8080/"
        },
        "id": "PM3i6FaPEtfI",
        "outputId": "7f1d4e26-5596-4790-bdb3-7ccf776b0810"
      },
      "source": [
        "print(\"cosine\")\n",
        "print(statistics.mean(ibased1['test_rmse']))\n",
        "print(\"msd\")\n",
        "print(statistics.mean(ibased2['test_rmse']))\n",
        "print(\"pearson\")\n",
        "print(statistics.mean(ibased3['test_rmse']))"
      ],
      "execution_count": null,
      "outputs": [
        {
          "output_type": "stream",
          "text": [
            "cosine\n",
            "0.9951389290765813\n",
            "msd\n",
            "0.9350164358182761\n",
            "pearson\n",
            "0.9902687681173551\n"
          ],
          "name": "stdout"
        }
      ]
    },
    {
      "cell_type": "code",
      "metadata": {
        "colab": {
          "base_uri": "https://localhost:8080/",
          "height": 336
        },
        "id": "sLyj1JoVJiBZ",
        "outputId": "62669076-f72e-4344-fcf1-28b3c41322f8"
      },
      "source": [
        "fig = plt.figure()\n",
        "ax = fig.add_axes([0,0,1,1])\n",
        "metrics = ['cosine', 'msd', 'pearson']\n",
        "vals = [statistics.mean(ibased1['test_rmse']),statistics.mean(ibased2['test_rmse']),statistics.mean(ibased3['test_rmse'])]\n",
        "ax.bar(metrics,vals)\n",
        "plt.show()"
      ],
      "execution_count": null,
      "outputs": [
        {
          "output_type": "display_data",
          "data": {
            "image/png": "[encoded data removed]",
            "text/plain": [
              "<Figure size 432x288 with 1 Axes>"
            ]
          },
          "metadata": {
            "tags": [],
            "needs_background": "light"
          }
        }
      ]
    },
    {
      "cell_type": "markdown",
      "metadata": {
        "id": "yJbPc4LGLhB0"
      },
      "source": [
        "varying k values for user-based"
      ]
    },
    {
      "cell_type": "code",
      "metadata": {
        "id": "lMINCLcVLuL9"
      },
      "source": [
        "#user based\n",
        "values1 = []\n",
        "for i in range(5, 100, 5):\n",
        "  algo = KNNBasic(k = i, sim_options={'user_based': True})\n",
        "  acc = cross_validate(algo, data, measures={'RMSE'}, cv=5)\n",
        "  values1.append(statistics.mean(acc['test_rmse']))"
      ],
      "execution_count": null,
      "outputs": []
    },
    {
      "cell_type": "code",
      "metadata": {
        "colab": {
          "base_uri": "https://localhost:8080/",
          "height": 336
        },
        "id": "obQV-HzEOOf6",
        "outputId": "e05873ad-9a5d-413d-fe43-41e7e1c7cc16"
      },
      "source": [
        "fig = plt.figure()\n",
        "ax = fig.add_axes([0,0,1,1])\n",
        "xval = np.linspace(5,95,19)\n",
        "ax.bar(xval,values1)\n",
        "plt.show()"
      ],
      "execution_count": null,
      "outputs": [
        {
          "output_type": "display_data",
          "data": {
            "image/png": "[encoded data removed]",
            "text/plain": [
              "<Figure size 432x288 with 1 Axes>"
            ]
          },
          "metadata": {
            "tags": [],
            "needs_background": "light"
          }
        }
      ]
    },
    {
      "cell_type": "code",
      "metadata": {
        "id": "9eZxb6V-eBLW"
      },
      "source": [
        "#user based\n",
        "values3 = []\n",
        "for i in range(6, 15):\n",
        "  algo = KNNBasic(k = i, sim_options={'user_based': True})\n",
        "  acc = cross_validate(algo, data, measures={'RMSE'}, cv=5)\n",
        "  values3.append(statistics.mean(acc['test_rmse']))"
      ],
      "execution_count": null,
      "outputs": []
    },
    {
      "cell_type": "code",
      "metadata": {
        "colab": {
          "base_uri": "https://localhost:8080/"
        },
        "id": "lRLiRGRUeKyV",
        "outputId": "d126312d-7462-4a98-e564-d04c71485308"
      },
      "source": [
        "print(np.linspace(6,14,9))\n",
        "print(values3)"
      ],
      "execution_count": 22,
      "outputs": [
        {
          "output_type": "stream",
          "text": [
            "[ 6.  7.  8.  9. 10. 11. 12. 13. 14.]\n",
            "[0.9792011920244109, 0.9740155139973923, 0.9694368954564574, 0.9660874408431457, 0.9650711988103944, 0.9628328345346246, 0.9628411824946304, 0.9635409640826483, 0.9627296812663668]\n"
          ],
          "name": "stdout"
        }
      ]
    },
    {
      "cell_type": "code",
      "metadata": {
        "colab": {
          "base_uri": "https://localhost:8080/",
          "height": 336
        },
        "id": "t1Gym_4zeDat",
        "outputId": "c30fb7ca-09f6-4581-a5bc-1be20fed9cc7"
      },
      "source": [
        "fig = plt.figure()\n",
        "ax = fig.add_axes([0,0,1,1])\n",
        "xval = np.linspace(11,20,9)\n",
        "ax.bar(xval,values3)\n",
        "plt.show()"
      ],
      "execution_count": 19,
      "outputs": [
        {
          "output_type": "display_data",
          "data": {
            "image/png": "[encoded data removed]",
            "text/plain": [
              "<Figure size 432x288 with 1 Axes>"
            ]
          },
          "metadata": {
            "tags": [],
            "needs_background": "light"
          }
        }
      ]
    },
    {
      "cell_type": "markdown",
      "metadata": {
        "id": "bfzJWaCrLn4t"
      },
      "source": [
        "varying k values for item-based"
      ]
    },
    {
      "cell_type": "code",
      "metadata": {
        "id": "op8fhwmiLu7C"
      },
      "source": [
        "#item based\n",
        "values = []\n",
        "for i in range(5, 100, 5):\n",
        "  algo = KNNBasic(k = i, sim_options={'user_based': False})\n",
        "  acc = cross_validate(algo, data, measures={'RMSE'}, cv=5)\n",
        "  values.append(statistics.mean(acc['test_rmse']))"
      ],
      "execution_count": null,
      "outputs": []
    },
    {
      "cell_type": "code",
      "metadata": {
        "colab": {
          "base_uri": "https://localhost:8080/",
          "height": 336
        },
        "id": "vMkEaBoYQJow",
        "outputId": "40eeb642-6573-4677-95c3-1671fc029f53"
      },
      "source": [
        "fig = plt.figure()\n",
        "ax = fig.add_axes([0,0,1,1])\n",
        "xval = np.linspace(5,95,19)\n",
        "ax.bar(xval,values)\n",
        "plt.show()"
      ],
      "execution_count": null,
      "outputs": [
        {
          "output_type": "display_data",
          "data": {
            "image/png": "[encoded data removed]",
            "text/plain": [
              "<Figure size 432x288 with 1 Axes>"
            ]
          },
          "metadata": {
            "tags": [],
            "needs_background": "light"
          }
        }
      ]
    },
    {
      "cell_type": "code",
      "metadata": {
        "id": "VmMepCMJefQb"
      },
      "source": [
        "#item based\n",
        "values4 = []\n",
        "for i in range(36, 45):\n",
        "  algo = KNNBasic(k = i, sim_options={'user_based': False})\n",
        "  acc = cross_validate(algo, data, measures={'RMSE'}, cv=5)\n",
        "  values4.append(statistics.mean(acc['test_rmse']))"
      ],
      "execution_count": null,
      "outputs": []
    },
    {
      "cell_type": "code",
      "metadata": {
        "colab": {
          "base_uri": "https://localhost:8080/"
        },
        "id": "2n0CiaCGNKHI",
        "outputId": "42702603-d8c8-4b05-c631-2cd38b9c5bf6"
      },
      "source": [
        "print(np.linspace(36,45,9))\n",
        "print(values4)"
      ],
      "execution_count": 16,
      "outputs": [
        {
          "output_type": "stream",
          "text": [
            "[36.    37.125 38.25  39.375 40.5   41.625 42.75  43.875 45.   ]\n",
            "[0.9355816411492031, 0.9366059575839115, 0.9349467221059964, 0.9351415600414338, 0.9350489466669486, 0.9343327759932776, 0.93439144901969, 0.9339864856560051, 0.9337823403141504]\n"
          ],
          "name": "stdout"
        }
      ]
    },
    {
      "cell_type": "code",
      "metadata": {
        "colab": {
          "base_uri": "https://localhost:8080/",
          "height": 336
        },
        "id": "HcEK1v_wei6U",
        "outputId": "1dd9a3cc-a53f-4ab9-b7cc-863875dcaa0c"
      },
      "source": [
        "fig = plt.figure()\n",
        "ax = fig.add_axes([0,0,1,1])\n",
        "xval = np.linspace(36,45,9)\n",
        "ax.bar(xval,values4)\n",
        "plt.show()"
      ],
      "execution_count": 17,
      "outputs": [
        {
          "output_type": "display_data",
          "data": {
            "image/png": "[encoded data removed]",
            "text/plain": [
              "<Figure size 432x288 with 1 Axes>"
            ]
          },
          "metadata": {
            "tags": [],
            "needs_background": "light"
          }
        }
      ]
    }
  ]
}