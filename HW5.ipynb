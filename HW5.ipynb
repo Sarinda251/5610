{
  "nbformat": 4,
  "nbformat_minor": 0,
  "metadata": {
    "colab": {
      "name": "HW5.ipynb",
      "provenance": [],
      "toc_visible": true,
      "authorship_tag": "ABX9TyOdAN7vDFhuQpdEv5HtNSfG",
      "include_colab_link": true
    },
    "kernelspec": {
      "name": "python3",
      "display_name": "Python 3"
    }
  },
  "cells": [
    {
      "cell_type": "markdown",
      "metadata": {
        "id": "view-in-github",
        "colab_type": "text"
      },
      "source": [
        "<a href=\"https://colab.research.google.com/github/Sarinda251/CAP_5610/blob/master/HW5.ipynb\" target=\"_parent\"><img src=\"https://colab.research.google.com/assets/colab-badge.svg\" alt=\"Open In Colab\"/></a>"
      ]
    },
    {
      "cell_type": "markdown",
      "metadata": {
        "id": "ooG1zzFOIQk7"
      },
      "source": [
        "#Task1"
      ]
    },
    {
      "cell_type": "markdown",
      "metadata": {
        "id": "vJk081wmLz5K"
      },
      "source": [
        "imports"
      ]
    },
    {
      "cell_type": "code",
      "metadata": {
        "id": "z4W-dHIG_KC6"
      },
      "source": [
        "import math\n",
        "import random\n",
        "import time\n",
        "from tkinter import *\n",
        "import matplotlib.pyplot as plt\n",
        "import numpy as np\n",
        "from sklearn.metrics import pairwise_distances_argmin\n",
        "from scipy.spatial.distance import jaccard"
      ],
      "execution_count": 158,
      "outputs": []
    },
    {
      "cell_type": "code",
      "metadata": {
        "id": "dWEpVOoB-qFs"
      },
      "source": [
        "######################################################################\n",
        "# This section contains functions for loading CSV (comma separated values)\n",
        "# files and convert them to a dataset of instances.\n",
        "# Each instance is a tuple of attributes. The entire dataset is a list\n",
        "# of tuples.\n",
        "######################################################################\n",
        "\n",
        "# Loads a CSV files into a list of tuples.\n",
        "# Ignores the first row of the file (header).\n",
        "# Numeric attributes are converted to floats, nominal attributes\n",
        "# are represented with strings.\n",
        "# Parameters:\n",
        "#   fileName: name of the CSV file to be read\n",
        "# Returns: a list of tuples\n",
        "def loadCSV(fileName):\n",
        "    fileHandler = open(fileName, \"rt\")\n",
        "    lines = fileHandler.readlines()\n",
        "    fileHandler.close()\n",
        "    del lines[0] # remove the header\n",
        "    dataset = []\n",
        "    for line in lines:\n",
        "        instance = lineToTuple(line)\n",
        "        dataset.append(instance)\n",
        "    return dataset\n",
        "\n",
        "# Converts a comma separated string into a tuple\n",
        "# Parameters\n",
        "#   line: a string\n",
        "# Returns: a tuple\n",
        "def lineToTuple(line):\n",
        "    # remove leading/trailing witespace and newlines\n",
        "    cleanLine = line.strip()\n",
        "    # get rid of quotes\n",
        "    cleanLine = cleanLine.replace('\"', '')\n",
        "    # separate the fields\n",
        "    lineList = cleanLine.split(\",\")\n",
        "    # convert strings into numbers\n",
        "    stringsToNumbers(lineList)\n",
        "    lineTuple = tuple(lineList)\n",
        "    return lineTuple\n",
        "\n",
        "# Destructively converts all the string elements representing numbers\n",
        "# to floating point numbers.\n",
        "# Parameters:\n",
        "#   myList: a list of strings\n",
        "# Returns None\n",
        "def stringsToNumbers(myList):\n",
        "    for i in range(len(myList)):\n",
        "        if (isValidNumberString(myList[i])):\n",
        "            myList[i] = float(myList[i])\n",
        "\n",
        "# Checks if a given string can be safely converted into a positive float.\n",
        "# Parameters:\n",
        "#   s: the string to be checked\n",
        "# Returns: True if the string represents a positive float, False otherwise\n",
        "def isValidNumberString(s):\n",
        "  if len(s) == 0:\n",
        "    return False\n",
        "  if  len(s) > 1 and s[0] == \"-\":\n",
        "      s = s[1:]\n",
        "  for c in s:\n",
        "    if c not in \"0123456789.\":\n",
        "      return False\n",
        "  return True\n"
      ],
      "execution_count": 159,
      "outputs": []
    },
    {
      "cell_type": "markdown",
      "metadata": {
        "id": "2ZSFmwX7IVLe"
      },
      "source": [
        "##Part 1"
      ]
    },
    {
      "cell_type": "code",
      "metadata": {
        "id": "jKojQMrECX5M"
      },
      "source": [
        "def find_clusters(X, n_clusters, centers):\n",
        " \n",
        "    first = True    \n",
        "    while True:\n",
        "        # 2a. Assign labels based on closest center\n",
        "        labels = pairwise_distances_argmin(X, centers, metric='manhattan')\n",
        "        \n",
        "        # 2b. Find new centers from means of points\n",
        "        new_centers = np.array([X[labels == i].mean(0) for i in range(n_clusters)])\n",
        "        if(first):\n",
        "          print(\"First iteration centers:\")\n",
        "          print(\"(\" + str(new_centers[0][0]) + \",\" + str(new_centers[0][1]) + \")\")\n",
        "          print(\"(\" + str(new_centers[1][0]) + \",\" + str(new_centers[1][1]) + \")\")\n",
        "          first = False\n",
        "        \n",
        "        # 2c. Check for convergence\n",
        "        if np.all(centers == new_centers):\n",
        "            break\n",
        "        centers = new_centers\n",
        "    \n",
        "    return centers, labels\n"
      ],
      "execution_count": 160,
      "outputs": []
    },
    {
      "cell_type": "code",
      "metadata": {
        "id": "44xTLLlLB6kn",
        "outputId": "db5192e3-9895-4d00-8c7d-ee0ece6d0f6a",
        "colab": {
          "base_uri": "https://localhost:8080/",
          "height": 615
        }
      },
      "source": [
        "######################################################################\n",
        "# Test code\n",
        "######################################################################\n",
        "\n",
        "dataset = loadCSV(\"teams.csv\")\n",
        "#print(dataset)\n",
        "#print([x[1:] for x in dataset])\n",
        "plt.scatter([x[1] for x in dataset], [x[2] for x in dataset])\n",
        "plt.show()\n",
        "\n",
        "init_center = [(4,6),(5,4)]\n",
        "print(\"Initial centers:\")\n",
        "print(\"(\" + str(init_center[0][0]) + \",\" + str(init_center[0][1]) + \")\")\n",
        "print(\"(\" + str(init_center[1][0]) + \",\" + str(init_center[1][1]) + \")\")\n",
        "\n",
        "centers, labels = find_clusters(np.array([x[1:] for x in dataset]), 2, init_center)\n",
        "plt.scatter([x[1] for x in dataset], [x[2] for x in dataset], c=labels, s=50, cmap='viridis');\n",
        "plt.scatter(centers[:, 0], centers[:, 1], c='black', s=200, alpha=0.5);\n",
        "plt.show()"
      ],
      "execution_count": 161,
      "outputs": [
        {
          "output_type": "display_data",
          "data": {
            "image/png": "[encoded data removed]",
            "text/plain": [
              "<Figure size 432x288 with 1 Axes>"
            ]
          },
          "metadata": {
            "tags": [],
            "needs_background": "light"
          }
        },
        {
          "output_type": "stream",
          "text": [
            "Initial centers:\n",
            "(4,6)\n",
            "(5,4)\n",
            "First iteration centers:\n",
            "(4.0,6.333333333333333)\n",
            "(5.571428571428571,3.5714285714285716)\n"
          ],
          "name": "stdout"
        },
        {
          "output_type": "display_data",
          "data": {
            "image/png": "[encoded data removed]",
            "text/plain": [
              "<Figure size 432x288 with 1 Axes>"
            ]
          },
          "metadata": {
            "tags": [],
            "needs_background": "light"
          }
        }
      ]
    },
    {
      "cell_type": "markdown",
      "metadata": {
        "id": "oo13J34MIZ1W"
      },
      "source": [
        "##Part 2"
      ]
    },
    {
      "cell_type": "code",
      "metadata": {
        "id": "A3GqHb2-IvG-",
        "outputId": "fcc10824-c472-4d38-b7b4-3d89bb572e18",
        "colab": {
          "base_uri": "https://localhost:8080/",
          "height": 615
        }
      },
      "source": [
        "def find_clusters2(X, n_clusters, centers):\n",
        " \n",
        "    first = True    \n",
        "    while True:\n",
        "        # 2a. Assign labels based on closest center\n",
        "        labels = pairwise_distances_argmin(X, centers, metric='euclidean')\n",
        "        \n",
        "        # 2b. Find new centers from means of points\n",
        "        new_centers = np.array([X[labels == i].mean(0) for i in range(n_clusters)])\n",
        "        if(first):\n",
        "          print(\"First iteration centers:\")\n",
        "          print(\"(\" + str(new_centers[0][0]) + \",\" + str(new_centers[0][1]) + \")\")\n",
        "          print(\"(\" + str(new_centers[1][0]) + \",\" + str(new_centers[1][1]) + \")\")\n",
        "          first = False\n",
        "        \n",
        "        # 2c. Check for convergence\n",
        "        if np.all(centers == new_centers):\n",
        "            break\n",
        "        centers = new_centers\n",
        "    \n",
        "    return centers, labels\n",
        "\n",
        "######################################################################\n",
        "# Test code\n",
        "######################################################################\n",
        "\n",
        "plt.scatter([x[1] for x in dataset], [x[2] for x in dataset])\n",
        "plt.show()\n",
        "\n",
        "init_center = [(4,6),(5,4)]\n",
        "print(\"Initial centers:\")\n",
        "print(\"(\" + str(init_center[0][0]) + \",\" + str(init_center[0][1]) + \")\")\n",
        "print(\"(\" + str(init_center[1][0]) + \",\" + str(init_center[1][1]) + \")\")\n",
        "\n",
        "centers, labels = find_clusters2(np.array([x[1:] for x in dataset]), 2, init_center)\n",
        "\n",
        "plt.scatter([x[1] for x in dataset], [x[2] for x in dataset], c=labels,s=50, cmap='viridis');\n",
        "plt.scatter(centers[:, 0], centers[:, 1], c='black', s=200, alpha=0.5);\n",
        "plt.show()"
      ],
      "execution_count": 162,
      "outputs": [
        {
          "output_type": "display_data",
          "data": {
            "image/png": "[encoded data removed]",
            "text/plain": [
              "<Figure size 432x288 with 1 Axes>"
            ]
          },
          "metadata": {
            "tags": [],
            "needs_background": "light"
          }
        },
        {
          "output_type": "stream",
          "text": [
            "Initial centers:\n",
            "(4,6)\n",
            "(5,4)\n",
            "First iteration centers:\n",
            "(2.5,6.5)\n",
            "(5.75,3.875)\n"
          ],
          "name": "stdout"
        },
        {
          "output_type": "display_data",
          "data": {
            "image/png": "[encoded data removed]",
            "text/plain": [
              "<Figure size 432x288 with 1 Axes>"
            ]
          },
          "metadata": {
            "tags": [],
            "needs_background": "light"
          }
        }
      ]
    },
    {
      "cell_type": "markdown",
      "metadata": {
        "id": "wRa4gexMIaFX"
      },
      "source": [
        "##Part 3"
      ]
    },
    {
      "cell_type": "code",
      "metadata": {
        "id": "0SqmPsG1LUrw",
        "outputId": "673fcaf3-6d19-4617-e20b-d4f82e18071b",
        "colab": {
          "base_uri": "https://localhost:8080/",
          "height": 615
        }
      },
      "source": [
        "def find_clusters3(X, n_clusters, centers):\n",
        " \n",
        "    first = True    \n",
        "    while True:\n",
        "        # 2a. Assign labels based on closest center\n",
        "        labels = pairwise_distances_argmin(X, centers, metric='manhattan')\n",
        "        \n",
        "        # 2b. Find new centers from means of points\n",
        "        new_centers = np.array([X[labels == i].mean(0) for i in range(n_clusters)])\n",
        "        if(first):\n",
        "          print(\"First iteration centers:\")\n",
        "          print(\"(\" + str(new_centers[0][0]) + \",\" + str(new_centers[0][1]) + \")\")\n",
        "          print(\"(\" + str(new_centers[1][0]) + \",\" + str(new_centers[1][1]) + \")\")\n",
        "          first = False\n",
        "        \n",
        "        # 2c. Check for convergence\n",
        "        if np.all(centers == new_centers):\n",
        "            break\n",
        "        centers = new_centers\n",
        "    \n",
        "    return centers, labels\n",
        "\n",
        "######################################################################\n",
        "# Test code\n",
        "######################################################################\n",
        "\n",
        "plt.scatter([x[1] for x in dataset], [x[2] for x in dataset])\n",
        "plt.show()\n",
        "\n",
        "init_center = [(3,3),(8,3)]\n",
        "print(\"Initial centers:\")\n",
        "print(\"(\" + str(init_center[0][0]) + \",\" + str(init_center[0][1]) + \")\")\n",
        "print(\"(\" + str(init_center[1][0]) + \",\" + str(init_center[1][1]) + \")\")\n",
        "\n",
        "centers, labels = find_clusters3(np.array([x[1:] for x in dataset]), 2, init_center)\n",
        "\n",
        "plt.scatter([x[1] for x in dataset], [x[2] for x in dataset], c=labels,s=50, cmap='viridis');\n",
        "plt.scatter(centers[:, 0], centers[:, 1], c='black', s=200, alpha=0.5);\n",
        "plt.show()"
      ],
      "execution_count": 163,
      "outputs": [
        {
          "output_type": "display_data",
          "data": {
            "image/png": "[encoded data removed]",
            "text/plain": [
              "<Figure size 432x288 with 1 Axes>"
            ]
          },
          "metadata": {
            "tags": [],
            "needs_background": "light"
          }
        },
        {
          "output_type": "stream",
          "text": [
            "Initial centers:\n",
            "(3,3)\n",
            "(8,3)\n",
            "First iteration centers:\n",
            "(2.5,5.0)\n",
            "(6.833333333333333,4.0)\n"
          ],
          "name": "stdout"
        },
        {
          "output_type": "display_data",
          "data": {
            "image/png": "[encoded data removed]",
            "text/plain": [
              "<Figure size 432x288 with 1 Axes>"
            ]
          },
          "metadata": {
            "tags": [],
            "needs_background": "light"
          }
        }
      ]
    },
    {
      "cell_type": "markdown",
      "metadata": {
        "id": "dN3sT9q4IaSd"
      },
      "source": [
        "##Part 4"
      ]
    },
    {
      "cell_type": "code",
      "metadata": {
        "id": "UOyZKE77LdJt",
        "outputId": "b55606d2-609b-4432-cadb-81b65458e71a",
        "colab": {
          "base_uri": "https://localhost:8080/",
          "height": 615
        }
      },
      "source": [
        "def find_clusters3(X, n_clusters, centers):\n",
        " \n",
        "    first = True    \n",
        "    while True:\n",
        "        # 2a. Assign labels based on closest center\n",
        "        labels = pairwise_distances_argmin(X, centers, metric='manhattan')\n",
        "        \n",
        "        # 2b. Find new centers from means of points\n",
        "        new_centers = np.array([X[labels == i].mean(0) for i in range(n_clusters)])\n",
        "        if(first):\n",
        "          print(\"First iteration centers:\")\n",
        "          print(\"(\" + str(new_centers[0][0]) + \",\" + str(new_centers[0][1]) + \")\")\n",
        "          print(\"(\" + str(new_centers[1][0]) + \",\" + str(new_centers[1][1]) + \")\")\n",
        "          first = False\n",
        "        \n",
        "        # 2c. Check for convergence\n",
        "        if np.all(centers == new_centers):\n",
        "            break\n",
        "        centers = new_centers\n",
        "    \n",
        "    return centers, labels\n",
        "\n",
        "######################################################################\n",
        "# Test code\n",
        "######################################################################\n",
        "\n",
        "plt.scatter([x[1] for x in dataset], [x[2] for x in dataset])\n",
        "plt.show()\n",
        "\n",
        "init_center = [(3,2),(4,8)]\n",
        "print(\"Initial centers:\")\n",
        "print(\"(\" + str(init_center[0][0]) + \",\" + str(init_center[0][1]) + \")\")\n",
        "print(\"(\" + str(init_center[1][0]) + \",\" + str(init_center[1][1]) + \")\")\n",
        "\n",
        "centers, labels = find_clusters3(np.array([x[1:] for x in dataset]), 2, init_center)\n",
        "\n",
        "plt.scatter([x[1] for x in dataset], [x[2] for x in dataset], c=labels,s=50, cmap='viridis');\n",
        "plt.scatter(centers[:, 0], centers[:, 1], c='black', s=200, alpha=0.5);\n",
        "plt.show()"
      ],
      "execution_count": 164,
      "outputs": [
        {
          "output_type": "display_data",
          "data": {
            "image/png": "[encoded data removed]",
            "text/plain": [
              "<Figure size 432x288 with 1 Axes>"
            ]
          },
          "metadata": {
            "tags": [],
            "needs_background": "light"
          }
        },
        {
          "output_type": "stream",
          "text": [
            "Initial centers:\n",
            "(3,2)\n",
            "(4,8)\n",
            "First iteration centers:\n",
            "(4.857142857142857,3.5714285714285716)\n",
            "(5.666666666666667,6.333333333333333)\n"
          ],
          "name": "stdout"
        },
        {
          "output_type": "display_data",
          "data": {
            "image/png": "[encoded data removed]",
            "text/plain": [
              "<Figure size 432x288 with 1 Axes>"
            ]
          },
          "metadata": {
            "tags": [],
            "needs_background": "light"
          }
        }
      ]
    },
    {
      "cell_type": "markdown",
      "metadata": {
        "id": "zDyDGi3LLw_b"
      },
      "source": [
        "#Task 2"
      ]
    },
    {
      "cell_type": "markdown",
      "metadata": {
        "id": "sTMT4-FzNyfh"
      },
      "source": [
        "imports"
      ]
    },
    {
      "cell_type": "code",
      "metadata": {
        "id": "FRohV_XRLtsO"
      },
      "source": [
        "from sklearn import datasets\n",
        "import matplotlib.pyplot as plt\n",
        "import pandas as pd\n",
        "from sklearn.cluster import KMeans\n",
        "import time\n"
      ],
      "execution_count": 165,
      "outputs": []
    },
    {
      "cell_type": "markdown",
      "metadata": {
        "id": "0_zre9DhMOFr"
      },
      "source": [
        "###Q1"
      ]
    },
    {
      "cell_type": "code",
      "metadata": {
        "id": "vQj8_EbmNn2t"
      },
      "source": [
        "def kMeans(X, n_clusters, dist):\n",
        "    start = time.time()\n",
        "    # 1. Randomly choose clusters\n",
        "    rseed=2\n",
        "    rng = np.random.RandomState(rseed)\n",
        "    i = rng.permutation(X.shape[0])[:n_clusters]\n",
        "    centers = X[i]\n",
        "    iters = 0\n",
        "\n",
        "    while True:\n",
        "        # 2a. Assign labels based on closest center\n",
        "        labels = pairwise_distances_argmin(X, centers, metric=dist)\n",
        "        \n",
        "        # 2b. Find new centers from means of points\n",
        "        new_centers = np.array([X[labels == i].mean(0)\n",
        "                                for i in range(n_clusters)])\n",
        "        \n",
        "        \n",
        "        # 2c. Check for convergence\n",
        "        if np.all(centers == new_centers):\n",
        "            break\n",
        "        centers = new_centers\n",
        "        iters += 1\n",
        "    return centers, labels, iters, start - time.time()\n",
        "\n",
        "def SSE(X, labels, centers, length):\n",
        "  result = 0\n",
        "  for i in range(len(X)):\n",
        "    for j in range(length):\n",
        "      result += (X[i][j] - centers[labels[i]][j]) ** 2\n",
        "      #print(result)\n",
        "  return result"
      ],
      "execution_count": 166,
      "outputs": []
    },
    {
      "cell_type": "code",
      "metadata": {
        "id": "NNk5zQdUOIRB",
        "outputId": "7f7f8bbb-cd94-47fa-a7d9-4ce86536b98b",
        "colab": {
          "base_uri": "https://localhost:8080/",
          "height": 51
        }
      },
      "source": [
        "iris = datasets.load_iris()\n",
        "X = iris.data\n",
        "y = iris.target\n",
        "cent_e, label_e, iters_e, time_e = kMeans(X, 3, 'euclidean')\n",
        "#print(cent_e)\n",
        "#print(X)\n",
        "sse_e = SSE(X, label_e, cent_e, 4)\n",
        "print(\"Euclidian SSE\")\n",
        "print(sse_e)"
      ],
      "execution_count": 167,
      "outputs": [
        {
          "output_type": "stream",
          "text": [
            "Euclidian SSE\n",
            "142.75406250000012\n"
          ],
          "name": "stdout"
        }
      ]
    },
    {
      "cell_type": "code",
      "metadata": {
        "id": "vITR5dWPSdVx",
        "outputId": "6072340f-2ab2-4865-f3e2-3980e91a4af4",
        "colab": {
          "base_uri": "https://localhost:8080/",
          "height": 51
        }
      },
      "source": [
        "X = iris.data\n",
        "y = iris.target\n",
        "cent_c, label_c, iters_c, time_c = kMeans(X, 3, 'cosine')\n",
        "#print(cent_c)\n",
        "#print(X)\n",
        "sse_c = SSE(X, label_c, cent_e, 4)\n",
        "print(\"Cosine SSE\")\n",
        "print(sse_c)"
      ],
      "execution_count": 168,
      "outputs": [
        {
          "output_type": "stream",
          "text": [
            "Cosine SSE\n",
            "159.46835700757592\n"
          ],
          "name": "stdout"
        }
      ]
    },
    {
      "cell_type": "code",
      "metadata": {
        "id": "VnKPYbIbSd-d",
        "outputId": "32910b9d-b74e-4185-f680-d9304d8d7a46",
        "colab": {
          "base_uri": "https://localhost:8080/",
          "height": 51
        }
      },
      "source": [
        "def jaccard2(arr1, arr2):\n",
        "  num = 0\n",
        "  den = 0\n",
        "  for i in range(len(arr1)):\n",
        "    num += min(arr1[i], arr2[i])\n",
        "    den += max(arr1[i], arr2[i])\n",
        "  \n",
        "  return 1 - (num/den)\n",
        "\n",
        "def kMeans2(X, n_clusters):\n",
        "    start = time.time()\n",
        "    # 1. Randomly choose clusters\n",
        "    rseed=2\n",
        "    rng = np.random.RandomState(rseed)\n",
        "    i = rng.permutation(X.shape[0])[:n_clusters]\n",
        "    centers = X[i]\n",
        "    iters = 0\n",
        "\n",
        "    while True:\n",
        "        # 2a. Assign labels based on closest center\n",
        "        labels = pairwise_distances_argmin(X, centers, metric = lambda a,b: jaccard2(a,b))\n",
        "        \n",
        "        # 2b. Find new centers from means of points\n",
        "        new_centers = np.array([X[labels == i].mean(0)\n",
        "                                for i in range(n_clusters)])\n",
        "        \n",
        "        # 2c. Check for convergence\n",
        "        if np.all(centers == new_centers):\n",
        "            break\n",
        "        centers = new_centers\n",
        "        iters += 1\n",
        "    return centers, labels, iters, start - time.time()\n",
        "\n",
        "X = iris.data\n",
        "y = iris.target\n",
        "cent_j, label_j, iters_j, time_j = kMeans2(X, 3)\n",
        "#print(cent_e)\n",
        "#print(X)\n",
        "sse_j = SSE(X, label_j, cent_j, 4)\n",
        "print(\"Jaccard SSE\")\n",
        "print(sse_j)"
      ],
      "execution_count": 169,
      "outputs": [
        {
          "output_type": "stream",
          "text": [
            "Jaccard SSE\n",
            "147.54080519480527\n"
          ],
          "name": "stdout"
        }
      ]
    },
    {
      "cell_type": "markdown",
      "metadata": {
        "id": "qfHArIR4MVkK"
      },
      "source": [
        "###Q2"
      ]
    },
    {
      "cell_type": "code",
      "metadata": {
        "id": "hHpqbJihXCR9"
      },
      "source": [
        "def ACC(labels, targets):\n",
        "  correct = 0\n",
        "  for i in range(len(labels)):\n",
        "    if labels[i] == targets[i]:\n",
        "      correct += 1\n",
        "  return correct / len(labels)"
      ],
      "execution_count": 170,
      "outputs": []
    },
    {
      "cell_type": "code",
      "metadata": {
        "id": "p9xyV_tmXYHL",
        "outputId": "61f135dc-077e-4f65-9705-43c0efe93caa",
        "colab": {
          "base_uri": "https://localhost:8080/",
          "height": 119
        }
      },
      "source": [
        "print(\"Euclidean Accuracy\")\n",
        "print(ACC(label_e, y))\n",
        "print(\"Cosine Accuracy\")\n",
        "print(ACC(label_c, y))\n",
        "print(\"Jaccard Accuracy\")\n",
        "print(ACC(label_j, y))"
      ],
      "execution_count": 171,
      "outputs": [
        {
          "output_type": "stream",
          "text": [
            "Euclidean Accuracy\n",
            "0.5733333333333334\n",
            "Cosine Accuracy\n",
            "0.49333333333333335\n",
            "Jaccard Accuracy\n",
            "0.52\n"
          ],
          "name": "stdout"
        }
      ]
    },
    {
      "cell_type": "markdown",
      "metadata": {
        "id": "9-mWOEy5MSz0"
      },
      "source": [
        "###Q3"
      ]
    },
    {
      "cell_type": "code",
      "metadata": {
        "id": "4W2e9OXgWnBb",
        "outputId": "feaf0bd1-dbb5-4a2d-b317-dc54df8c4fea",
        "colab": {
          "base_uri": "https://localhost:8080/",
          "height": 221
        }
      },
      "source": [
        "print(\"Euclidean Iterations\")\n",
        "print(iters_e)\n",
        "print(\"Cosine Iterations\")\n",
        "print(iters_c)\n",
        "print(\"Jaccard Iterations\")\n",
        "print(iters_j)\n",
        "print(\"Euclidean Time\")\n",
        "print(-1 * time_e)\n",
        "print(\"Cosine Time\")\n",
        "print(-1 * time_c)\n",
        "print(\"Jaccard Time\")\n",
        "print(abs(time_j))"
      ],
      "execution_count": 172,
      "outputs": [
        {
          "output_type": "stream",
          "text": [
            "Euclidean Iterations\n",
            "4\n",
            "Cosine Iterations\n",
            "5\n",
            "Jaccard Iterations\n",
            "2\n",
            "Euclidean Time\n",
            "0.0052089691162109375\n",
            "Cosine Time\n",
            "0.008234739303588867\n",
            "Jaccard Time\n",
            "0.016582489013671875\n"
          ],
          "name": "stdout"
        }
      ]
    },
    {
      "cell_type": "markdown",
      "metadata": {
        "id": "pyyW0_KyMYED"
      },
      "source": [
        "###Q4"
      ]
    },
    {
      "cell_type": "markdown",
      "metadata": {
        "id": "8uGVyws4MvjA"
      },
      "source": [
        "no change in centroid"
      ]
    },
    {
      "cell_type": "code",
      "metadata": {
        "id": "bQ4xYSraMuxw",
        "outputId": "d6160b07-8bf2-41cc-fc54-9db30963d978",
        "colab": {
          "base_uri": "https://localhost:8080/",
          "height": 221
        }
      },
      "source": [
        "print(\"Euclidean Iterations\")\n",
        "print(iters_e)\n",
        "print(\"Cosine Iterations\")\n",
        "print(iters_c)\n",
        "print(\"Jaccard Iterations\")\n",
        "print(iters_j)\n",
        "print(\"Euclidean Time\")\n",
        "print(-1 * time_e)\n",
        "print(\"Cosine Time\")\n",
        "print(-1 * time_c)\n",
        "print(\"Jaccard Time\")\n",
        "print(abs(time_j))"
      ],
      "execution_count": 173,
      "outputs": [
        {
          "output_type": "stream",
          "text": [
            "Euclidean Iterations\n",
            "4\n",
            "Cosine Iterations\n",
            "5\n",
            "Jaccard Iterations\n",
            "2\n",
            "Euclidean Time\n",
            "0.0052089691162109375\n",
            "Cosine Time\n",
            "0.008234739303588867\n",
            "Jaccard Time\n",
            "0.016582489013671875\n"
          ],
          "name": "stdout"
        }
      ]
    },
    {
      "cell_type": "markdown",
      "metadata": {
        "id": "W3U0AovrMzTZ"
      },
      "source": [
        "sse increases"
      ]
    },
    {
      "cell_type": "code",
      "metadata": {
        "id": "Yt9JyZARMnab"
      },
      "source": [
        "def kMeans3(X, n_clusters, dist):\n",
        "    start = time.time()\n",
        "    # 1. Randomly choose clusters\n",
        "    rseed=2\n",
        "    rng = np.random.RandomState(rseed)\n",
        "    i = rng.permutation(X.shape[0])[:n_clusters]\n",
        "    centers = X[i]\n",
        "    iters = 0\n",
        "    \n",
        "    \n",
        "    while True:\n",
        "\n",
        "        # 2a. Assign labels based on closest center\n",
        "        labels = pairwise_distances_argmin(X, centers, metric=dist)\n",
        "\n",
        "        oldsse = SSE(X, labels, centers, 4)\n",
        "\n",
        "        # 2b. Find new centers from means of points\n",
        "        new_centers = np.array([X[labels == i].mean(0)\n",
        "                                for i in range(n_clusters)])\n",
        "        \n",
        "        newsse = SSE(X, labels, new_centers, 4)\n",
        "        \n",
        "        # 2c. Check for convergence\n",
        "        if oldsse <= newsse:\n",
        "            break\n",
        "        centers = new_centers\n",
        "        iters += 1\n",
        "    return centers, labels, iters, start - time.time()\n",
        "\n",
        "#special for jaccard\n",
        "def kMeans4(X, n_clusters):\n",
        "    start = time.time()\n",
        "    # 1. Randomly choose clusters\n",
        "    rseed=2\n",
        "    rng = np.random.RandomState(rseed)\n",
        "    i = rng.permutation(X.shape[0])[:n_clusters]\n",
        "    centers = X[i]\n",
        "    iters = 0\n",
        "\n",
        "\n",
        "    while True:\n",
        "        # 2a. Assign labels based on closest center\n",
        "        labels = pairwise_distances_argmin(X, centers, metric = lambda a,b: jaccard2(a,b))\n",
        "        \n",
        "        oldsse = SSE(X, labels, centers, 4)\n",
        "\n",
        "        # 2b. Find new centers from means of points\n",
        "        new_centers = np.array([X[labels == i].mean(0)\n",
        "                                for i in range(n_clusters)])\n",
        "        labels2 = pairwise_distances_argmin(X, new_centers, metric = lambda a,b: jaccard2(a,b))\n",
        "\n",
        "        newsse = SSE(X, labels2, new_centers, 4)\n",
        "        #print(newsse)\n",
        "        # 2c. Check for convergence\n",
        "        if oldsse <= newsse:\n",
        "            break\n",
        "        centers = new_centers\n",
        "        iters += 1\n",
        "    return centers, labels, iters, start - time.time()"
      ],
      "execution_count": 174,
      "outputs": []
    },
    {
      "cell_type": "code",
      "metadata": {
        "id": "Weni6buNOGRA",
        "outputId": "6864dbd6-595e-4072-d64f-5fe214800471",
        "colab": {
          "base_uri": "https://localhost:8080/",
          "height": 221
        }
      },
      "source": [
        "cent_e, label_e, iters_e2, time_e = kMeans3(X, 3, 'euclidean')\n",
        "print(\"Euclidean Iterations\")\n",
        "print(iters_e2)\n",
        "cent_c, label_c, iters_c2, time_c = kMeans3(X, 3, 'cosine')\n",
        "print(\"Cosine Iterations\")\n",
        "print(iters_c2)\n",
        "cent_j, label_j, iters_j2, time_j = kMeans4(X, 3)\n",
        "print(\"Jaccard Iterations\")\n",
        "print(iters_j2)\n",
        "print(\"Euclidean Time\")\n",
        "print(-1 * time_e)\n",
        "print(\"Cosine Time\")\n",
        "print(-1 * time_c)\n",
        "print(\"Jaccard Time\")\n",
        "print(abs(time_j))"
      ],
      "execution_count": 175,
      "outputs": [
        {
          "output_type": "stream",
          "text": [
            "Euclidean Iterations\n",
            "4\n",
            "Cosine Iterations\n",
            "5\n",
            "Jaccard Iterations\n",
            "2\n",
            "Euclidean Time\n",
            "0.017931461334228516\n",
            "Cosine Time\n",
            "0.024301528930664062\n",
            "Jaccard Time\n",
            "0.028658390045166016\n"
          ],
          "name": "stdout"
        }
      ]
    },
    {
      "cell_type": "markdown",
      "metadata": {
        "id": "NM9T6JZ2QlVA"
      },
      "source": [
        "100 iterations"
      ]
    },
    {
      "cell_type": "code",
      "metadata": {
        "id": "8XqWIeDhQoz-"
      },
      "source": [
        "def kMeans5(X, n_clusters, dist):\n",
        "    start = time.time()\n",
        "    # 1. Randomly choose clusters\n",
        "    rseed=2\n",
        "    rng = np.random.RandomState(rseed)\n",
        "    i = rng.permutation(X.shape[0])[:n_clusters]\n",
        "    centers = X[i]\n",
        "    iters = 0\n",
        "    \n",
        "    \n",
        "    while True:\n",
        "\n",
        "        # 2a. Assign labels based on closest center\n",
        "        labels = pairwise_distances_argmin(X, centers, metric=dist)\n",
        "\n",
        "        #oldsse = SSE(X, labels, centers, 4)\n",
        "\n",
        "        # 2b. Find new centers from means of points\n",
        "        new_centers = np.array([X[labels == i].mean(0)\n",
        "                                for i in range(n_clusters)])\n",
        "        \n",
        "        #newsse = SSE(X, labels, new_centers, 4)\n",
        "        \n",
        "        # 2c. Check for convergence\n",
        "        if iters == 100:\n",
        "            break\n",
        "        centers = new_centers\n",
        "        iters += 1\n",
        "    return centers, labels, iters, start - time.time()\n",
        "\n",
        "#special for jaccard\n",
        "def kMeans6(X, n_clusters):\n",
        "    start = time.time()\n",
        "    # 1. Randomly choose clusters\n",
        "    rseed=2\n",
        "    rng = np.random.RandomState(rseed)\n",
        "    i = rng.permutation(X.shape[0])[:n_clusters]\n",
        "    centers = X[i]\n",
        "    iters = 0\n",
        "\n",
        "\n",
        "    while True:\n",
        "        # 2a. Assign labels based on closest center\n",
        "        labels = pairwise_distances_argmin(X, centers, metric = lambda a,b: jaccard2(a,b))\n",
        "\n",
        "        # 2b. Find new centers from means of points\n",
        "        new_centers = np.array([X[labels == i].mean(0)\n",
        "                                for i in range(n_clusters)])\n",
        "        \n",
        "\n",
        "        # 2c. Check for convergence\n",
        "        if iters == 100:\n",
        "            break\n",
        "        centers = new_centers\n",
        "        iters += 1\n",
        "    return centers, labels, iters, start - time.time()"
      ],
      "execution_count": 176,
      "outputs": []
    },
    {
      "cell_type": "code",
      "metadata": {
        "id": "oj4wg9tZQqrU",
        "outputId": "df8113fc-646c-42b4-e20d-dcf0772c6e71",
        "colab": {
          "base_uri": "https://localhost:8080/",
          "height": 221
        }
      },
      "source": [
        "cent_e, label_e, iters_e, time_e = kMeans5(X, 3, 'euclidean')\n",
        "print(\"Euclidean Iterations\")\n",
        "print(iters_e)\n",
        "cent_c, label_c, iters_c, time_c = kMeans5(X, 3, 'cosine')\n",
        "print(\"Cosine Iterations\")\n",
        "print(iters_c)\n",
        "cent_j, label_j, iters_j, time_j = kMeans6(X, 3)\n",
        "print(\"Jaccard Iterations\")\n",
        "print(iters_j)\n",
        "print(\"Euclidean Time\")\n",
        "print(-1 * time_e)\n",
        "print(\"Cosine Time\")\n",
        "print(-1 * time_c)\n",
        "print(\"Jaccard Time\")\n",
        "print(abs(time_j))"
      ],
      "execution_count": 177,
      "outputs": [
        {
          "output_type": "stream",
          "text": [
            "Euclidean Iterations\n",
            "100\n",
            "Cosine Iterations\n",
            "100\n",
            "Jaccard Iterations\n",
            "100\n",
            "Euclidean Time\n",
            "0.04004263877868652\n",
            "Cosine Time\n",
            "0.05173301696777344\n",
            "Jaccard Time\n",
            "0.3661072254180908\n"
          ],
          "name": "stdout"
        }
      ]
    },
    {
      "cell_type": "markdown",
      "metadata": {
        "id": "QdGHQxk4SgcA"
      },
      "source": [
        "#Task 4"
      ]
    },
    {
      "cell_type": "code",
      "metadata": {
        "id": "rKrpT93LSiFT",
        "outputId": "3d05650d-6950-4396-b7bf-d4db4597bd27",
        "colab": {
          "base_uri": "https://localhost:8080/",
          "height": 119
        }
      },
      "source": [
        "import statistics\n",
        "\n",
        "c1 = [(4.7,3.2), (4.9,3.1), (5.0,3.0), (4.8,2.9)]\n",
        "c2 = [(5.9,3.2),(6.7,3.1),(6.0,3.0),(6.2,2.8)]\n",
        "\n",
        "def edist (p1,p2):\n",
        "  dx = p1[0] - p2[0]\n",
        "  dy = p2[1] - p1[1]\n",
        "  return math.sqrt((dx*dx) + (dy*dy))\n",
        "\n",
        "dists = []\n",
        "\n",
        "for p1 in c1:\n",
        "  for p2 in c2:\n",
        "    dists.append(edist(p1,p2))\n",
        "\n",
        "print(\"max dist\")\n",
        "print(max(dists))\n",
        "print(\"min dist\")\n",
        "print(min(dists))\n",
        "print(\"average dist\")\n",
        "print(statistics.mean(dists))"
      ],
      "execution_count": 178,
      "outputs": [
        {
          "output_type": "stream",
          "text": [
            "max dist\n",
            "2.0024984394500787\n",
            "min dist\n",
            "0.9219544457292891\n",
            "average dist\n",
            "1.36335908104326\n"
          ],
          "name": "stdout"
        }
      ]
    },
    {
      "cell_type": "markdown",
      "metadata": {
        "id": "pc04YwceavMW"
      },
      "source": [
        "testing"
      ]
    },
    {
      "cell_type": "code",
      "metadata": {
        "id": "1eKEnosIauul",
        "outputId": "7b0a36a2-78cd-461e-e08e-0bc888ad5822",
        "colab": {
          "base_uri": "https://localhost:8080/",
          "height": 119
        }
      },
      "source": [
        "c1 = [(4.7,3.2), (4.9,3.1), (5.0,3.0), (4.8,2.9), (5.5,3.0)]\n",
        "c2 = [(5.9,3.2),(6.7,3.1),(6.0,3.0),(6.2,2.8), (7.0,2.7)]\n",
        "\n",
        "def edist (p1,p2):\n",
        "  dx = p1[0] - p2[0]\n",
        "  dy = p2[1] - p1[1]\n",
        "  return math.sqrt((dx*dx) + (dy*dy))\n",
        "\n",
        "dists = []\n",
        "\n",
        "for p1 in c1:\n",
        "  for p2 in c2:\n",
        "    dists.append(edist(p1,p2))\n",
        "\n",
        "print(\"max dist\")\n",
        "print(max(dists))\n",
        "print(\"min dist\")\n",
        "print(min(dists))\n",
        "print(\"average dist\")\n",
        "print(statistics.mean(dists))"
      ],
      "execution_count": 180,
      "outputs": [
        {
          "output_type": "stream",
          "text": [
            "max dist\n",
            "2.3537204591879637\n",
            "min dist\n",
            "0.4472135954999583\n",
            "average dist\n",
            "1.3978303411984607\n"
          ],
          "name": "stdout"
        }
      ]
    }
  ]
}